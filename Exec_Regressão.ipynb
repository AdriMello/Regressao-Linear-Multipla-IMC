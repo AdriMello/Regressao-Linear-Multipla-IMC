{
  "cells": [
    {
      "cell_type": "code",
      "source": [
        "# Calcular Regressão Linear Múltipla para explicar o IMC, baseado na planilha de dados do PNS (entregue em aula).\n",
        "# Deve-se escolher as variáveis que compõem a RLM objetivando o melhor r2.\n",
        "# Feita a regresão, explicar o motivo da escolha das variáveis explicativas.\n",
        "# Explicar também a performance da Regressão."
      ],
      "outputs": [],
      "execution_count": 1,
      "metadata": {
        "id": "ELhhLe0AHbQd"
      }
    },
    {
      "cell_type": "code",
      "source": [
        "import numpy as np\n",
        "import pandas as pd\n",
        "import matplotlib.pyplot as plt\n",
        "from sklearn.linear_model import LinearRegression\n",
        "from sklearn.preprocessing import LabelEncoder\n",
        "from sklearn.metrics import mean_squared_error, r2_score\n",
        "\n",
        "\n",
        "df = pd.read_csv('pns.csv', sep='\\t')\n",
        "df"
      ],
      "outputs": [],
      "execution_count": null,
      "metadata": {
        "id": "PMSMHVY4HikA"
      }
    },
    {
      "cell_type": "markdown",
      "source": [
        "O IMC é calculado a partir do peso e da altura do indivíduo. Portanto, a variável IMC é a variável dependente, e as variáveis escolaridade, peso e altura são as variáveis independentes. São variáveis comuns e relevantes na análise da obesidade. A escolaridade pode ser um indicador do nível socioeconômico do indivíduo, o que pode influenciar a obesidade. O peso e a altura são variáveis diretamente relacionadas ao IMC."
      ],
      "metadata": {
        "id": "udSZT7b7HnoO"
      }
    },
    {
      "cell_type": "code",
      "source": [
        "le = LabelEncoder()\n",
        "df['Escolaridade'] = le.fit_transform(df['Escolaridade'])\n",
        "\n",
        "df[['Peso', 'Altura']] = df[['Peso', 'Altura']].astype(float)\n",
        "\n",
        "df['IMC'] = df['Peso'] / (df['Altura'] ** 2)\n",
        "\n",
        "df = df.dropna()\n",
        "\n",
        "X = df[['Escolaridade', 'Peso', 'Altura']]\n",
        "\n",
        "y = df['IMC']\n",
        "\n",
        "model = LinearRegression()\n",
        "model.fit(X, y)\n",
        "\n",
        "coefficients = model.coef_\n",
        "\n",
        "r2 = r2_score(y, model.predict(X))\n",
        "\n",
        "print(df.head())\n",
        "print(\"\\nCoeficientes:\", coefficients)\n",
        "print(\"R²:\", r2)"
      ],
      "outputs": [
        {
          "output_type": "stream",
          "name": "stdout",
          "text": "            Estado  Total de moradores Situacao censitaria  # de comodos  \\\n0          Alagoas                 1.0              Urbano           3.0   \n6   Rio de Janeiro                 2.0              Urbano           5.0   \n8       Pernambuco                 2.0              Urbano           7.0   \n39       Sao Paulo                 4.0              Urbano           6.0   \n41     Mato Grosso                 5.0              Urbano           6.0   \n\n    Escolaridade Problemas de saude nas ultimas Nao semanas  \\\n0              4                                        Nao   \n6              3                                        Sim   \n8              8                                        Nao   \n39            12                                        Nao   \n41            11                                        Nao   \n\n   Qdo teve ultima consulta medica? Qdo teve ultima consulta odontologica?  \\\n0                         Ate 1 ano                 Mais de 1 ano a 2 anos   \n6                         Ate 1 ano                 Mais de 1 ano a 2 anos   \n8            Mais de 1 ano a 2 anos                 Mais de 1 ano a 2 anos   \n39                        Ate 1 ano                              Ate 1 ano   \n41                   Mais de 3 anos                              Ate 1 ano   \n\n   Nas ultimas 2 semanas, pq nao foi ao posto de saude?  \\\n0                               Nao houve necessidade     \n6                               Nao houve necessidade     \n8                               Nao houve necessidade     \n39                              Nao houve necessidade     \n41                              Nao houve necessidade     \n\n   Como voce avalia a sua saude?  Peso  Altura       IMC  \n0                        Regular  58.0   164.0  0.002156  \n6                           Ruim  90.0   175.0  0.002939  \n8                      Muito boa  79.0   172.0  0.002670  \n39                           Boa  75.0   169.0  0.002626  \n41                           Boa  86.0   164.0  0.003198  \n\nCoeficientes: [ 4.09338359e-07  3.54837938e-05 -3.13267226e-05]\nR²: 0.987533498225863\n"
        },
        {
          "output_type": "stream",
          "name": "stderr",
          "text": "<ipython-input-13-a036e051d07e>:2: SettingWithCopyWarning: \nA value is trying to be set on a copy of a slice from a DataFrame.\nTry using .loc[row_indexer,col_indexer] = value instead\n\nSee the caveats in the documentation: https://pandas.pydata.org/pandas-docs/stable/user_guide/indexing.html#returning-a-view-versus-a-copy\n  df['Escolaridade'] = le.fit_transform(df['Escolaridade'])\n<ipython-input-13-a036e051d07e>:4: SettingWithCopyWarning: \nA value is trying to be set on a copy of a slice from a DataFrame.\nTry using .loc[row_indexer,col_indexer] = value instead\n\nSee the caveats in the documentation: https://pandas.pydata.org/pandas-docs/stable/user_guide/indexing.html#returning-a-view-versus-a-copy\n  df[['Peso', 'Altura']] = df[['Peso', 'Altura']].astype(float)\n<ipython-input-13-a036e051d07e>:6: SettingWithCopyWarning: \nA value is trying to be set on a copy of a slice from a DataFrame.\nTry using .loc[row_indexer,col_indexer] = value instead\n\nSee the caveats in the documentation: https://pandas.pydata.org/pandas-docs/stable/user_guide/indexing.html#returning-a-view-versus-a-copy\n  df['IMC'] = df['Peso'] / (df['Altura'] ** 2)\n"
        }
      ],
      "execution_count": 13,
      "metadata": {
        "colab": {
          "base_uri": "https://localhost:8080/"
        },
        "id": "smIKuCrAHkvx",
        "outputId": "7f5f22a0-705b-4e86-da6d-37c779080f84"
      }
    }
  ],
  "metadata": {
    "colab": {
      "provenance": []
    },
    "kernelspec": {
      "name": "python",
      "language": "python",
      "display_name": "Pyolite (preview)"
    },
    "language_info": {
      "codemirror_mode": {
        "name": "python",
        "version": 3
      },
      "file_extension": ".py",
      "mimetype": "text/x-python",
      "name": "python",
      "nbconvert_exporter": "python",
      "pygments_lexer": "ipython3",
      "version": "3.8"
    },
    "kernel_info": {
      "name": "python"
    },
    "nteract": {
      "version": "nteract-front-end@1.0.0"
    }
  },
  "nbformat": 4,
  "nbformat_minor": 0
}